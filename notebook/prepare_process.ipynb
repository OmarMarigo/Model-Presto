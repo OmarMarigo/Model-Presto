{
 "cells": [
  {
   "cell_type": "code",
   "execution_count": 8,
   "metadata": {},
   "outputs": [],
   "source": [
    "import geopandas as gpd\n",
    "import pandas as pd\n",
    "from shapely.geometry import Polygon\n",
    "import ee"
   ]
  },
  {
   "cell_type": "code",
   "execution_count": 4,
   "metadata": {},
   "outputs": [],
   "source": [
    "anacade = gpd.read_file('../data/GeoJson/anacade.geojson')\n",
    "cocoa = gpd.read_file('../data/GeoJson/cacao_2024.geojson')\n",
    "hevea = gpd.read_file('../data/GeoJson/hevea_2024.geojson')\n",
    "others  = gpd.read_file('../data/GeoJson/others_2024.geojson')\n",
    "palme = gpd.read_file('../data/GeoJson/others_2024.geojson')\n",
    "palmeoil = gpd.read_file('../data/GeoJson/palmeoil_2024.geojson')\n",
    "soil= gpd.read_file('../data/GeoJson/soil_2024.geojson')\n",
    "urban = gpd.read_file('../data/GeoJson/urban_2024.geojson')"
   ]
  },
  {
   "cell_type": "markdown",
   "metadata": {},
   "source": [
    "### Combinaison"
   ]
  },
  {
   "cell_type": "code",
   "execution_count": 13,
   "metadata": {},
   "outputs": [
    {
     "data": {
      "text/plain": [
       "0       MULTIPOLYGON (((-6.33326 7.53689, -6.33321 7.5...\n",
       "1       MULTIPOLYGON (((-6.33312 7.53682, -6.33308 7.5...\n",
       "2       MULTIPOLYGON (((-6.33286 7.53696, -6.33285 7.5...\n",
       "3       MULTIPOLYGON (((-6.33361 7.53658, -6.33357 7.5...\n",
       "4       MULTIPOLYGON (((-6.32615 7.53654, -6.32606 7.5...\n",
       "                              ...                        \n",
       "1559    MULTIPOLYGON (((-7.25718 4.68181, -7.25693 4.6...\n",
       "1560    MULTIPOLYGON (((-7.25698 4.68139, -7.25644 4.6...\n",
       "1561    MULTIPOLYGON (((-6.87676 4.67405, -6.87675 4.6...\n",
       "1562    MULTIPOLYGON (((-6.8766 4.67358, -6.87647 4.67...\n",
       "1563    MULTIPOLYGON (((-6.87726 4.67283, -6.87731 4.6...\n",
       "Name: geometry, Length: 1564, dtype: geometry"
      ]
     },
     "execution_count": 13,
     "metadata": {},
     "output_type": "execute_result"
    }
   ],
   "source": [
    "data_culture_CI = pd.concat([anacade,cocoa,hevea,others,palme, palmeoil, soil, urban],ignore_index=True)\n",
    "data_culture_CI[\"geometry\"]"
   ]
  },
  {
   "cell_type": "code",
   "execution_count": 17,
   "metadata": {},
   "outputs": [],
   "source": [
    "data_culture_CI = data_culture_CI.explode(index_parts=True).reset_index(drop=True)"
   ]
  },
  {
   "cell_type": "code",
   "execution_count": 20,
   "metadata": {},
   "outputs": [],
   "source": [
    "data_culture_CI.to_file('data_culture_CI_exploded.geojson', driver='GeoJSON')"
   ]
  },
  {
   "cell_type": "code",
   "execution_count": null,
   "metadata": {},
   "outputs": [],
   "source": []
  }
 ],
 "metadata": {
  "kernelspec": {
   "display_name": "env",
   "language": "python",
   "name": "python3"
  },
  "language_info": {
   "codemirror_mode": {
    "name": "ipython",
    "version": 3
   },
   "file_extension": ".py",
   "mimetype": "text/x-python",
   "name": "python",
   "nbconvert_exporter": "python",
   "pygments_lexer": "ipython3",
   "version": "3.9.6"
  }
 },
 "nbformat": 4,
 "nbformat_minor": 2
}
