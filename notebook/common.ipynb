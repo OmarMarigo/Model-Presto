{
 "cells": [
  {
   "cell_type": "code",
   "execution_count": 1,
   "metadata": {
    "ExecuteTime": {
     "end_time": "2024-08-21T12:39:56.197867Z",
     "start_time": "2024-08-21T12:39:54.788278Z"
    }
   },
   "outputs": [
    {
     "name": "stderr",
     "output_type": "stream",
     "text": [
      "/Users/clementkm/Documents/School/TOLBI STAGE /PROJECT/DATA_2/env/lib/python3.9/site-packages/urllib3/__init__.py:35: NotOpenSSLWarning: urllib3 v2 only supports OpenSSL 1.1.1+, currently the 'ssl' module is compiled with 'LibreSSL 2.8.3'. See: https://github.com/urllib3/urllib3/issues/3020\n",
      "  warnings.warn(\n"
     ]
    }
   ],
   "source": [
    "import ee\n",
    "import geopandas\n",
    "import os\n",
    "from dotenv import load_dotenv"
   ]
  },
  {
   "cell_type": "code",
   "execution_count": 3,
   "metadata": {
    "ExecuteTime": {
     "end_time": "2024-08-21T12:42:02.107846Z",
     "start_time": "2024-08-21T12:41:57.428607Z"
    }
   },
   "outputs": [
    {
     "data": {
      "text/html": [
       "\n",
       "            <style>\n",
       "                .geemap-dark {\n",
       "                    --jp-widgets-color: white;\n",
       "                    --jp-widgets-label-color: white;\n",
       "                    --jp-ui-font-color1: white;\n",
       "                    --jp-layout-color2: #454545;\n",
       "                    background-color: #383838;\n",
       "                }\n",
       "\n",
       "                .geemap-dark .jupyter-button {\n",
       "                    --jp-layout-color3: #383838;\n",
       "                }\n",
       "\n",
       "                .geemap-colab {\n",
       "                    background-color: var(--colab-primary-surface-color, white);\n",
       "                }\n",
       "\n",
       "                .geemap-colab .jupyter-button {\n",
       "                    --jp-layout-color3: var(--colab-primary-surface-color, white);\n",
       "                }\n",
       "            </style>\n",
       "            "
      ],
      "text/plain": [
       "<IPython.core.display.HTML object>"
      ]
     },
     "metadata": {},
     "output_type": "display_data"
    }
   ],
   "source": [
    "load_dotenv()\n",
    "ee.Authenticate()\n",
    "ee.Initialize(project=os.getenv(\"ID_NAME_PROJECT_EE\"))"
   ]
  },
  {
   "cell_type": "code",
   "execution_count": null,
   "metadata": {
    "collapsed": false
   },
   "outputs": [],
   "source": [
    "dataset_world = geopandas.read_file(os.getenv(\"DATASET_PATH_AFRICA\"))\n",
    "dataset_world.shape"
   ]
  },
  {
   "cell_type": "code",
   "execution_count": 5,
   "metadata": {
    "ExecuteTime": {
     "end_time": "2024-08-21T12:43:05.424622Z",
     "start_time": "2024-08-21T12:42:59.189905Z"
    },
    "collapsed": false
   },
   "outputs": [
    {
     "data": {
      "text/html": [
       "\n",
       "            <style>\n",
       "                .geemap-dark {\n",
       "                    --jp-widgets-color: white;\n",
       "                    --jp-widgets-label-color: white;\n",
       "                    --jp-ui-font-color1: white;\n",
       "                    --jp-layout-color2: #454545;\n",
       "                    background-color: #383838;\n",
       "                }\n",
       "\n",
       "                .geemap-dark .jupyter-button {\n",
       "                    --jp-layout-color3: #383838;\n",
       "                }\n",
       "\n",
       "                .geemap-colab {\n",
       "                    background-color: var(--colab-primary-surface-color, white);\n",
       "                }\n",
       "\n",
       "                .geemap-colab .jupyter-button {\n",
       "                    --jp-layout-color3: var(--colab-primary-surface-color, white);\n",
       "                }\n",
       "            </style>\n",
       "            "
      ],
      "text/plain": [
       "<IPython.core.display.HTML object>"
      ]
     },
     "metadata": {},
     "output_type": "display_data"
    }
   ],
   "source": [
    "dataset_africa = geopandas.read_file(os.getenv(\"DATASET_PATH_AFRICA\"))"
   ]
  },
  {
   "cell_type": "code",
   "execution_count": 6,
   "metadata": {
    "ExecuteTime": {
     "end_time": "2024-08-21T12:43:22.026586Z",
     "start_time": "2024-08-21T12:43:22.009687Z"
    },
    "collapsed": false
   },
   "outputs": [
    {
     "data": {
      "text/html": [
       "\n",
       "            <style>\n",
       "                .geemap-dark {\n",
       "                    --jp-widgets-color: white;\n",
       "                    --jp-widgets-label-color: white;\n",
       "                    --jp-ui-font-color1: white;\n",
       "                    --jp-layout-color2: #454545;\n",
       "                    background-color: #383838;\n",
       "                }\n",
       "\n",
       "                .geemap-dark .jupyter-button {\n",
       "                    --jp-layout-color3: #383838;\n",
       "                }\n",
       "\n",
       "                .geemap-colab {\n",
       "                    background-color: var(--colab-primary-surface-color, white);\n",
       "                }\n",
       "\n",
       "                .geemap-colab .jupyter-button {\n",
       "                    --jp-layout-color3: var(--colab-primary-surface-color, white);\n",
       "                }\n",
       "            </style>\n",
       "            "
      ],
      "text/plain": [
       "<IPython.core.display.HTML object>"
      ]
     },
     "metadata": {},
     "output_type": "display_data"
    },
    {
     "data": {
      "text/plain": [
       "(254361, 21)"
      ]
     },
     "execution_count": 6,
     "metadata": {},
     "output_type": "execute_result"
    }
   ],
   "source": [
    "dataset_africa.shape"
   ]
  },
  {
   "cell_type": "code",
   "execution_count": 105,
   "metadata": {
    "ExecuteTime": {
     "end_time": "2024-08-20T09:33:50.901109Z",
     "start_time": "2024-08-20T09:33:50.327371Z"
    },
    "collapsed": false
   },
   "outputs": [
    {
     "data": {
      "text/html": [
       "\n",
       "            <style>\n",
       "                .geemap-dark {\n",
       "                    --jp-widgets-color: white;\n",
       "                    --jp-widgets-label-color: white;\n",
       "                    --jp-ui-font-color1: white;\n",
       "                    --jp-layout-color2: #454545;\n",
       "                    background-color: #383838;\n",
       "                }\n",
       "\n",
       "                .geemap-dark .jupyter-button {\n",
       "                    --jp-layout-color3: #383838;\n",
       "                }\n",
       "\n",
       "                .geemap-colab {\n",
       "                    background-color: var(--colab-primary-surface-color, white);\n",
       "                }\n",
       "\n",
       "                .geemap-colab .jupyter-button {\n",
       "                    --jp-layout-color3: var(--colab-primary-surface-color, white);\n",
       "                }\n",
       "            </style>\n",
       "            "
      ],
      "text/plain": [
       "<IPython.core.display.HTML object>"
      ]
     },
     "metadata": {},
     "output_type": "display_data"
    },
    {
     "data": {
      "text/plain": [
       "Lat                             0\n",
       "Lon                             0\n",
       "Start_Year                      0\n",
       "End_Year                        0\n",
       "Dataset_Code                    0\n",
       "Continent_Code                  0\n",
       "LC_Confidence             1817034\n",
       "Segment_Type              1818502\n",
       "Leaf_Type                 1858129\n",
       "Impervious_Percent        1870982\n",
       "Veg_Density               1853929\n",
       "Tree_Location             1858043\n",
       "Veg_Modifier              1752206\n",
       "Level1_Ecoregion                0\n",
       "Level2_Ecoregion                0\n",
       "Glance_Class_ID_level1          0\n",
       "Glance_Class_ID_level2          0\n",
       "Change                          0\n",
       "ID                              0\n",
       "Glance_ID                       0\n",
       "geometry                        0\n",
       "dtype: int64"
      ]
     },
     "execution_count": 105,
     "metadata": {},
     "output_type": "execute_result"
    }
   ],
   "source": [
    "df.isnull().sum()"
   ]
  },
  {
   "cell_type": "code",
   "execution_count": 132,
   "metadata": {
    "ExecuteTime": {
     "end_time": "2024-08-20T09:36:29.663802Z",
     "start_time": "2024-08-20T09:36:28.788127Z"
    },
    "collapsed": false
   },
   "outputs": [
    {
     "data": {
      "text/html": [
       "\n",
       "            <style>\n",
       "                .geemap-dark {\n",
       "                    --jp-widgets-color: white;\n",
       "                    --jp-widgets-label-color: white;\n",
       "                    --jp-ui-font-color1: white;\n",
       "                    --jp-layout-color2: #454545;\n",
       "                    background-color: #383838;\n",
       "                }\n",
       "\n",
       "                .geemap-dark .jupyter-button {\n",
       "                    --jp-layout-color3: #383838;\n",
       "                }\n",
       "\n",
       "                .geemap-colab {\n",
       "                    background-color: var(--colab-primary-surface-color, white);\n",
       "                }\n",
       "\n",
       "                .geemap-colab .jupyter-button {\n",
       "                    --jp-layout-color3: var(--colab-primary-surface-color, white);\n",
       "                }\n",
       "            </style>\n",
       "            "
      ],
      "text/plain": [
       "<IPython.core.display.HTML object>"
      ]
     },
     "metadata": {},
     "output_type": "display_data"
    }
   ],
   "source": [
    "df_african = df[df[\"Continent_Code\"]== 3]\n",
    "df_african.to_file('df_african.geojson', driver='GeoJSON')"
   ]
  },
  {
   "cell_type": "code",
   "execution_count": 107,
   "metadata": {},
   "outputs": [
    {
     "data": {
      "text/html": [
       "\n",
       "            <style>\n",
       "                .geemap-dark {\n",
       "                    --jp-widgets-color: white;\n",
       "                    --jp-widgets-label-color: white;\n",
       "                    --jp-ui-font-color1: white;\n",
       "                    --jp-layout-color2: #454545;\n",
       "                    background-color: #383838;\n",
       "                }\n",
       "\n",
       "                .geemap-dark .jupyter-button {\n",
       "                    --jp-layout-color3: #383838;\n",
       "                }\n",
       "\n",
       "                .geemap-colab {\n",
       "                    background-color: var(--colab-primary-surface-color, white);\n",
       "                }\n",
       "\n",
       "                .geemap-colab .jupyter-button {\n",
       "                    --jp-layout-color3: var(--colab-primary-surface-color, white);\n",
       "                }\n",
       "            </style>\n",
       "            "
      ],
      "text/plain": [
       "<IPython.core.display.HTML object>"
      ]
     },
     "metadata": {},
     "output_type": "display_data"
    },
    {
     "data": {
      "text/html": [
       "<div>\n",
       "<style scoped>\n",
       "    .dataframe tbody tr th:only-of-type {\n",
       "        vertical-align: middle;\n",
       "    }\n",
       "\n",
       "    .dataframe tbody tr th {\n",
       "        vertical-align: top;\n",
       "    }\n",
       "\n",
       "    .dataframe thead th {\n",
       "        text-align: right;\n",
       "    }\n",
       "</style>\n",
       "<table border=\"1\" class=\"dataframe\">\n",
       "  <thead>\n",
       "    <tr style=\"text-align: right;\">\n",
       "      <th></th>\n",
       "      <th>Lat</th>\n",
       "      <th>Lon</th>\n",
       "      <th>Start_Year</th>\n",
       "      <th>End_Year</th>\n",
       "      <th>Dataset_Code</th>\n",
       "      <th>Continent_Code</th>\n",
       "      <th>LC_Confidence</th>\n",
       "      <th>Segment_Type</th>\n",
       "      <th>Leaf_Type</th>\n",
       "      <th>Impervious_Percent</th>\n",
       "      <th>...</th>\n",
       "      <th>Tree_Location</th>\n",
       "      <th>Veg_Modifier</th>\n",
       "      <th>Level1_Ecoregion</th>\n",
       "      <th>Level2_Ecoregion</th>\n",
       "      <th>Glance_Class_ID_level1</th>\n",
       "      <th>Glance_Class_ID_level2</th>\n",
       "      <th>Change</th>\n",
       "      <th>ID</th>\n",
       "      <th>Glance_ID</th>\n",
       "      <th>geometry</th>\n",
       "    </tr>\n",
       "  </thead>\n",
       "  <tbody>\n",
       "    <tr>\n",
       "      <th>880772</th>\n",
       "      <td>14.725049</td>\n",
       "      <td>43.144871</td>\n",
       "      <td>2015</td>\n",
       "      <td>2015</td>\n",
       "      <td>999</td>\n",
       "      <td>3</td>\n",
       "      <td>NaN</td>\n",
       "      <td>NaN</td>\n",
       "      <td>NaN</td>\n",
       "      <td>NaN</td>\n",
       "      <td>...</td>\n",
       "      <td>NaN</td>\n",
       "      <td>None</td>\n",
       "      <td>2</td>\n",
       "      <td>2_00</td>\n",
       "      <td>3</td>\n",
       "      <td>3</td>\n",
       "      <td>False</td>\n",
       "      <td>870424</td>\n",
       "      <td>03_2_00_999_870424_2015_2015</td>\n",
       "      <td>POINT (43.14487 14.72505)</td>\n",
       "    </tr>\n",
       "    <tr>\n",
       "      <th>880773</th>\n",
       "      <td>31.652813</td>\n",
       "      <td>44.546241</td>\n",
       "      <td>2015</td>\n",
       "      <td>2015</td>\n",
       "      <td>999</td>\n",
       "      <td>3</td>\n",
       "      <td>NaN</td>\n",
       "      <td>NaN</td>\n",
       "      <td>NaN</td>\n",
       "      <td>NaN</td>\n",
       "      <td>...</td>\n",
       "      <td>NaN</td>\n",
       "      <td>None</td>\n",
       "      <td>3</td>\n",
       "      <td>3_00</td>\n",
       "      <td>3</td>\n",
       "      <td>3</td>\n",
       "      <td>False</td>\n",
       "      <td>870425</td>\n",
       "      <td>03_3_00_999_870425_2015_2015</td>\n",
       "      <td>POINT (44.54624 31.65281)</td>\n",
       "    </tr>\n",
       "    <tr>\n",
       "      <th>880774</th>\n",
       "      <td>26.820775</td>\n",
       "      <td>40.302510</td>\n",
       "      <td>2015</td>\n",
       "      <td>2015</td>\n",
       "      <td>999</td>\n",
       "      <td>3</td>\n",
       "      <td>NaN</td>\n",
       "      <td>NaN</td>\n",
       "      <td>NaN</td>\n",
       "      <td>NaN</td>\n",
       "      <td>...</td>\n",
       "      <td>NaN</td>\n",
       "      <td>None</td>\n",
       "      <td>3</td>\n",
       "      <td>3_00</td>\n",
       "      <td>3</td>\n",
       "      <td>3</td>\n",
       "      <td>False</td>\n",
       "      <td>870426</td>\n",
       "      <td>03_3_00_999_870426_2015_2015</td>\n",
       "      <td>POINT (40.30251 26.82077)</td>\n",
       "    </tr>\n",
       "  </tbody>\n",
       "</table>\n",
       "<p>3 rows × 21 columns</p>\n",
       "</div>"
      ],
      "text/plain": [
       "              Lat        Lon  Start_Year  End_Year  Dataset_Code  \\\n",
       "880772  14.725049  43.144871        2015      2015           999   \n",
       "880773  31.652813  44.546241        2015      2015           999   \n",
       "880774  26.820775  40.302510        2015      2015           999   \n",
       "\n",
       "        Continent_Code  LC_Confidence  Segment_Type  Leaf_Type  \\\n",
       "880772               3            NaN           NaN        NaN   \n",
       "880773               3            NaN           NaN        NaN   \n",
       "880774               3            NaN           NaN        NaN   \n",
       "\n",
       "        Impervious_Percent  ...  Tree_Location  Veg_Modifier Level1_Ecoregion  \\\n",
       "880772                 NaN  ...            NaN          None                2   \n",
       "880773                 NaN  ...            NaN          None                3   \n",
       "880774                 NaN  ...            NaN          None                3   \n",
       "\n",
       "        Level2_Ecoregion Glance_Class_ID_level1  Glance_Class_ID_level2  \\\n",
       "880772              2_00                      3                       3   \n",
       "880773              3_00                      3                       3   \n",
       "880774              3_00                      3                       3   \n",
       "\n",
       "        Change      ID                     Glance_ID  \\\n",
       "880772   False  870424  03_2_00_999_870424_2015_2015   \n",
       "880773   False  870425  03_3_00_999_870425_2015_2015   \n",
       "880774   False  870426  03_3_00_999_870426_2015_2015   \n",
       "\n",
       "                         geometry  \n",
       "880772  POINT (43.14487 14.72505)  \n",
       "880773  POINT (44.54624 31.65281)  \n",
       "880774  POINT (40.30251 26.82077)  \n",
       "\n",
       "[3 rows x 21 columns]"
      ]
     },
     "execution_count": 107,
     "metadata": {},
     "output_type": "execute_result"
    }
   ],
   "source": [
    "df_african"
   ]
  },
  {
   "cell_type": "code",
   "execution_count": 108,
   "metadata": {},
   "outputs": [
    {
     "data": {
      "text/html": [
       "\n",
       "            <style>\n",
       "                .geemap-dark {\n",
       "                    --jp-widgets-color: white;\n",
       "                    --jp-widgets-label-color: white;\n",
       "                    --jp-ui-font-color1: white;\n",
       "                    --jp-layout-color2: #454545;\n",
       "                    background-color: #383838;\n",
       "                }\n",
       "\n",
       "                .geemap-dark .jupyter-button {\n",
       "                    --jp-layout-color3: #383838;\n",
       "                }\n",
       "\n",
       "                .geemap-colab {\n",
       "                    background-color: var(--colab-primary-surface-color, white);\n",
       "                }\n",
       "\n",
       "                .geemap-colab .jupyter-button {\n",
       "                    --jp-layout-color3: var(--colab-primary-surface-color, white);\n",
       "                }\n",
       "            </style>\n",
       "            "
      ],
      "text/plain": [
       "<IPython.core.display.HTML object>"
      ]
     },
     "metadata": {},
     "output_type": "display_data"
    },
    {
     "name": "stderr",
     "output_type": "stream",
     "text": [
      "/var/folders/32/tnln06y93cs1qk5zp6ywqdnh0000gn/T/ipykernel_13764/2115276327.py:1: UserWarning: Geometry is in a geographic CRS. Results from 'centroid' are likely incorrect. Use 'GeoSeries.to_crs()' to re-project geometries to a projected CRS before this operation.\n",
      "\n",
      "  df_african[\"centroid\"] = df_african[\"geometry\"].centroid\n"
     ]
    }
   ],
   "source": [
    "df_african[\"centroid\"] = df_african[\"geometry\"].centroid\n",
    "df_african =df_african.set_geometry(\"centroid\")"
   ]
  },
  {
   "cell_type": "code",
   "execution_count": 109,
   "metadata": {},
   "outputs": [
    {
     "data": {
      "text/html": [
       "\n",
       "            <style>\n",
       "                .geemap-dark {\n",
       "                    --jp-widgets-color: white;\n",
       "                    --jp-widgets-label-color: white;\n",
       "                    --jp-ui-font-color1: white;\n",
       "                    --jp-layout-color2: #454545;\n",
       "                    background-color: #383838;\n",
       "                }\n",
       "\n",
       "                .geemap-dark .jupyter-button {\n",
       "                    --jp-layout-color3: #383838;\n",
       "                }\n",
       "\n",
       "                .geemap-colab {\n",
       "                    background-color: var(--colab-primary-surface-color, white);\n",
       "                }\n",
       "\n",
       "                .geemap-colab .jupyter-button {\n",
       "                    --jp-layout-color3: var(--colab-primary-surface-color, white);\n",
       "                }\n",
       "            </style>\n",
       "            "
      ],
      "text/plain": [
       "<IPython.core.display.HTML object>"
      ]
     },
     "metadata": {},
     "output_type": "display_data"
    },
    {
     "data": {
      "text/plain": [
       "880772    POINT (43.14487 14.72505)\n",
       "Name: centroid, dtype: geometry"
      ]
     },
     "execution_count": 109,
     "metadata": {},
     "output_type": "execute_result"
    }
   ],
   "source": [
    "df_afrcain_first = df_african[\"centroid\"].head(1)\n",
    "\n",
    "points = geopandas.GeoSeries(df_afrcain_first)\n",
    "points"
   ]
  },
  {
   "cell_type": "code",
   "execution_count": null,
   "metadata": {},
   "outputs": [],
   "source": []
  },
  {
   "cell_type": "code",
   "execution_count": 110,
   "metadata": {},
   "outputs": [
    {
     "data": {
      "text/html": [
       "\n",
       "            <style>\n",
       "                .geemap-dark {\n",
       "                    --jp-widgets-color: white;\n",
       "                    --jp-widgets-label-color: white;\n",
       "                    --jp-ui-font-color1: white;\n",
       "                    --jp-layout-color2: #454545;\n",
       "                    background-color: #383838;\n",
       "                }\n",
       "\n",
       "                .geemap-dark .jupyter-button {\n",
       "                    --jp-layout-color3: #383838;\n",
       "                }\n",
       "\n",
       "                .geemap-colab {\n",
       "                    background-color: var(--colab-primary-surface-color, white);\n",
       "                }\n",
       "\n",
       "                .geemap-colab .jupyter-button {\n",
       "                    --jp-layout-color3: var(--colab-primary-surface-color, white);\n",
       "                }\n",
       "            </style>\n",
       "            "
      ],
      "text/plain": [
       "<IPython.core.display.HTML object>"
      ]
     },
     "metadata": {},
     "output_type": "display_data"
    },
    {
     "name": "stderr",
     "output_type": "stream",
     "text": [
      "/var/folders/32/tnln06y93cs1qk5zp6ywqdnh0000gn/T/ipykernel_13764/1274873340.py:1: UserWarning: Geometry is in a geographic CRS. Results from 'buffer' are likely incorrect. Use 'GeoSeries.to_crs()' to re-project geometries to a projected CRS before this operation.\n",
      "\n",
      "  buffer = points.buffer(25600 , cap_style=3)\n"
     ]
    },
    {
     "data": {
      "text/plain": [
       "880772    POLYGON ((25643.14487 25614.72505, 25643.14487...\n",
       "dtype: geometry"
      ]
     },
     "execution_count": 110,
     "metadata": {},
     "output_type": "execute_result"
    }
   ],
   "source": [
    "buffer = points.buffer(25600 , cap_style=3)\n",
    "buffer"
   ]
  },
  {
   "cell_type": "code",
   "execution_count": 111,
   "metadata": {},
   "outputs": [
    {
     "data": {
      "text/html": [
       "\n",
       "            <style>\n",
       "                .geemap-dark {\n",
       "                    --jp-widgets-color: white;\n",
       "                    --jp-widgets-label-color: white;\n",
       "                    --jp-ui-font-color1: white;\n",
       "                    --jp-layout-color2: #454545;\n",
       "                    background-color: #383838;\n",
       "                }\n",
       "\n",
       "                .geemap-dark .jupyter-button {\n",
       "                    --jp-layout-color3: #383838;\n",
       "                }\n",
       "\n",
       "                .geemap-colab {\n",
       "                    background-color: var(--colab-primary-surface-color, white);\n",
       "                }\n",
       "\n",
       "                .geemap-colab .jupyter-button {\n",
       "                    --jp-layout-color3: var(--colab-primary-surface-color, white);\n",
       "                }\n",
       "            </style>\n",
       "            "
      ],
      "text/plain": [
       "<IPython.core.display.HTML object>"
      ]
     },
     "metadata": {},
     "output_type": "display_data"
    }
   ],
   "source": [
    "import matplotlib.pyplot as plt"
   ]
  },
  {
   "cell_type": "code",
   "execution_count": 112,
   "metadata": {},
   "outputs": [
    {
     "data": {
      "text/html": [
       "\n",
       "            <style>\n",
       "                .geemap-dark {\n",
       "                    --jp-widgets-color: white;\n",
       "                    --jp-widgets-label-color: white;\n",
       "                    --jp-ui-font-color1: white;\n",
       "                    --jp-layout-color2: #454545;\n",
       "                    background-color: #383838;\n",
       "                }\n",
       "\n",
       "                .geemap-dark .jupyter-button {\n",
       "                    --jp-layout-color3: #383838;\n",
       "                }\n",
       "\n",
       "                .geemap-colab {\n",
       "                    background-color: var(--colab-primary-surface-color, white);\n",
       "                }\n",
       "\n",
       "                .geemap-colab .jupyter-button {\n",
       "                    --jp-layout-color3: var(--colab-primary-surface-color, white);\n",
       "                }\n",
       "            </style>\n",
       "            "
      ],
      "text/plain": [
       "<IPython.core.display.HTML object>"
      ]
     },
     "metadata": {},
     "output_type": "display_data"
    },
    {
     "data": {
      "text/plain": [
       "<Axes: >"
      ]
     },
     "execution_count": 112,
     "metadata": {},
     "output_type": "execute_result"
    },
    {
     "data": {
      "image/png": "[encoded data removed]",
      "text/plain": [
       "<Figure size 640x480 with 1 Axes>"
      ]
     },
     "metadata": {},
     "output_type": "display_data"
    }
   ],
   "source": [
    "fig, ax1 = plt.subplots()\n",
    "buffer.boundary.plot(ax=ax1, color = 'slategrey')\n",
    "points.plot(ax = ax1, color = 'green')"
   ]
  },
  {
   "cell_type": "code",
   "execution_count": 151,
   "metadata": {},
   "outputs": [
    {
     "data": {
      "text/html": [
       "\n",
       "            <style>\n",
       "                .geemap-dark {\n",
       "                    --jp-widgets-color: white;\n",
       "                    --jp-widgets-label-color: white;\n",
       "                    --jp-ui-font-color1: white;\n",
       "                    --jp-layout-color2: #454545;\n",
       "                    background-color: #383838;\n",
       "                }\n",
       "\n",
       "                .geemap-dark .jupyter-button {\n",
       "                    --jp-layout-color3: #383838;\n",
       "                }\n",
       "\n",
       "                .geemap-colab {\n",
       "                    background-color: var(--colab-primary-surface-color, white);\n",
       "                }\n",
       "\n",
       "                .geemap-colab .jupyter-button {\n",
       "                    --jp-layout-color3: var(--colab-primary-surface-color, white);\n",
       "                }\n",
       "            </style>\n",
       "            "
      ],
      "text/plain": [
       "<IPython.core.display.HTML object>"
      ]
     },
     "metadata": {},
     "output_type": "display_data"
    }
   ],
   "source": [
    "d =df_african[df_african[\"End_Year\"]>=2018]"
   ]
  },
  {
   "cell_type": "code",
   "execution_count": 152,
   "metadata": {},
   "outputs": [
    {
     "data": {
      "text/html": [
       "\n",
       "            <style>\n",
       "                .geemap-dark {\n",
       "                    --jp-widgets-color: white;\n",
       "                    --jp-widgets-label-color: white;\n",
       "                    --jp-ui-font-color1: white;\n",
       "                    --jp-layout-color2: #454545;\n",
       "                    background-color: #383838;\n",
       "                }\n",
       "\n",
       "                .geemap-dark .jupyter-button {\n",
       "                    --jp-layout-color3: #383838;\n",
       "                }\n",
       "\n",
       "                .geemap-colab {\n",
       "                    background-color: var(--colab-primary-surface-color, white);\n",
       "                }\n",
       "\n",
       "                .geemap-colab .jupyter-button {\n",
       "                    --jp-layout-color3: var(--colab-primary-surface-color, white);\n",
       "                }\n",
       "            </style>\n",
       "            "
      ],
      "text/plain": [
       "<IPython.core.display.HTML object>"
      ]
     },
     "metadata": {},
     "output_type": "display_data"
    },
    {
     "data": {
      "text/plain": [
       "35449"
      ]
     },
     "execution_count": 152,
     "metadata": {},
     "output_type": "execute_result"
    }
   ],
   "source": [
    "len(d)"
   ]
  },
  {
   "cell_type": "code",
   "execution_count": 144,
   "metadata": {},
   "outputs": [
    {
     "data": {
      "text/html": [
       "\n",
       "            <style>\n",
       "                .geemap-dark {\n",
       "                    --jp-widgets-color: white;\n",
       "                    --jp-widgets-label-color: white;\n",
       "                    --jp-ui-font-color1: white;\n",
       "                    --jp-layout-color2: #454545;\n",
       "                    background-color: #383838;\n",
       "                }\n",
       "\n",
       "                .geemap-dark .jupyter-button {\n",
       "                    --jp-layout-color3: #383838;\n",
       "                }\n",
       "\n",
       "                .geemap-colab {\n",
       "                    background-color: var(--colab-primary-surface-color, white);\n",
       "                }\n",
       "\n",
       "                .geemap-colab .jupyter-button {\n",
       "                    --jp-layout-color3: var(--colab-primary-surface-color, white);\n",
       "                }\n",
       "            </style>\n",
       "            "
      ],
      "text/plain": [
       "<IPython.core.display.HTML object>"
      ]
     },
     "metadata": {},
     "output_type": "display_data"
    },
    {
     "data": {
      "text/html": [
       "<div>\n",
       "<style scoped>\n",
       "    .dataframe tbody tr th:only-of-type {\n",
       "        vertical-align: middle;\n",
       "    }\n",
       "\n",
       "    .dataframe tbody tr th {\n",
       "        vertical-align: top;\n",
       "    }\n",
       "\n",
       "    .dataframe thead th {\n",
       "        text-align: right;\n",
       "    }\n",
       "</style>\n",
       "<table border=\"1\" class=\"dataframe\">\n",
       "  <thead>\n",
       "    <tr style=\"text-align: right;\">\n",
       "      <th></th>\n",
       "      <th>Lat</th>\n",
       "      <th>Lon</th>\n",
       "      <th>Start_Year</th>\n",
       "      <th>End_Year</th>\n",
       "      <th>Dataset_Code</th>\n",
       "      <th>Continent_Code</th>\n",
       "      <th>LC_Confidence</th>\n",
       "      <th>Segment_Type</th>\n",
       "      <th>Leaf_Type</th>\n",
       "      <th>Impervious_Percent</th>\n",
       "      <th>...</th>\n",
       "      <th>Tree_Location</th>\n",
       "      <th>Veg_Modifier</th>\n",
       "      <th>Level1_Ecoregion</th>\n",
       "      <th>Level2_Ecoregion</th>\n",
       "      <th>Glance_Class_ID_level1</th>\n",
       "      <th>Glance_Class_ID_level2</th>\n",
       "      <th>Change</th>\n",
       "      <th>ID</th>\n",
       "      <th>Glance_ID</th>\n",
       "      <th>geometry</th>\n",
       "    </tr>\n",
       "  </thead>\n",
       "  <tbody>\n",
       "    <tr>\n",
       "      <th>880772</th>\n",
       "      <td>14.725049</td>\n",
       "      <td>43.144871</td>\n",
       "      <td>2015</td>\n",
       "      <td>2015</td>\n",
       "      <td>999</td>\n",
       "      <td>3</td>\n",
       "      <td>NaN</td>\n",
       "      <td>NaN</td>\n",
       "      <td>NaN</td>\n",
       "      <td>NaN</td>\n",
       "      <td>...</td>\n",
       "      <td>NaN</td>\n",
       "      <td>None</td>\n",
       "      <td>2</td>\n",
       "      <td>2_00</td>\n",
       "      <td>3</td>\n",
       "      <td>3</td>\n",
       "      <td>False</td>\n",
       "      <td>870424</td>\n",
       "      <td>03_2_00_999_870424_2015_2015</td>\n",
       "      <td>POINT (43.14487 14.72505)</td>\n",
       "    </tr>\n",
       "    <tr>\n",
       "      <th>880773</th>\n",
       "      <td>31.652813</td>\n",
       "      <td>44.546241</td>\n",
       "      <td>2015</td>\n",
       "      <td>2015</td>\n",
       "      <td>999</td>\n",
       "      <td>3</td>\n",
       "      <td>NaN</td>\n",
       "      <td>NaN</td>\n",
       "      <td>NaN</td>\n",
       "      <td>NaN</td>\n",
       "      <td>...</td>\n",
       "      <td>NaN</td>\n",
       "      <td>None</td>\n",
       "      <td>3</td>\n",
       "      <td>3_00</td>\n",
       "      <td>3</td>\n",
       "      <td>3</td>\n",
       "      <td>False</td>\n",
       "      <td>870425</td>\n",
       "      <td>03_3_00_999_870425_2015_2015</td>\n",
       "      <td>POINT (44.54624 31.65281)</td>\n",
       "    </tr>\n",
       "    <tr>\n",
       "      <th>880774</th>\n",
       "      <td>26.820775</td>\n",
       "      <td>40.302510</td>\n",
       "      <td>2015</td>\n",
       "      <td>2015</td>\n",
       "      <td>999</td>\n",
       "      <td>3</td>\n",
       "      <td>NaN</td>\n",
       "      <td>NaN</td>\n",
       "      <td>NaN</td>\n",
       "      <td>NaN</td>\n",
       "      <td>...</td>\n",
       "      <td>NaN</td>\n",
       "      <td>None</td>\n",
       "      <td>3</td>\n",
       "      <td>3_00</td>\n",
       "      <td>3</td>\n",
       "      <td>3</td>\n",
       "      <td>False</td>\n",
       "      <td>870426</td>\n",
       "      <td>03_3_00_999_870426_2015_2015</td>\n",
       "      <td>POINT (40.30251 26.82077)</td>\n",
       "    </tr>\n",
       "    <tr>\n",
       "      <th>880775</th>\n",
       "      <td>32.015824</td>\n",
       "      <td>44.378347</td>\n",
       "      <td>2015</td>\n",
       "      <td>2015</td>\n",
       "      <td>999</td>\n",
       "      <td>3</td>\n",
       "      <td>NaN</td>\n",
       "      <td>NaN</td>\n",
       "      <td>NaN</td>\n",
       "      <td>NaN</td>\n",
       "      <td>...</td>\n",
       "      <td>NaN</td>\n",
       "      <td>None</td>\n",
       "      <td>3</td>\n",
       "      <td>3_00</td>\n",
       "      <td>3</td>\n",
       "      <td>3</td>\n",
       "      <td>False</td>\n",
       "      <td>870427</td>\n",
       "      <td>03_3_00_999_870427_2015_2015</td>\n",
       "      <td>POINT (44.37835 32.01582)</td>\n",
       "    </tr>\n",
       "    <tr>\n",
       "      <th>880776</th>\n",
       "      <td>26.317088</td>\n",
       "      <td>44.010757</td>\n",
       "      <td>2015</td>\n",
       "      <td>2015</td>\n",
       "      <td>999</td>\n",
       "      <td>3</td>\n",
       "      <td>NaN</td>\n",
       "      <td>NaN</td>\n",
       "      <td>NaN</td>\n",
       "      <td>NaN</td>\n",
       "      <td>...</td>\n",
       "      <td>NaN</td>\n",
       "      <td>None</td>\n",
       "      <td>3</td>\n",
       "      <td>3_00</td>\n",
       "      <td>3</td>\n",
       "      <td>3</td>\n",
       "      <td>False</td>\n",
       "      <td>870428</td>\n",
       "      <td>03_3_00_999_870428_2015_2015</td>\n",
       "      <td>POINT (44.01076 26.31709)</td>\n",
       "    </tr>\n",
       "    <tr>\n",
       "      <th>...</th>\n",
       "      <td>...</td>\n",
       "      <td>...</td>\n",
       "      <td>...</td>\n",
       "      <td>...</td>\n",
       "      <td>...</td>\n",
       "      <td>...</td>\n",
       "      <td>...</td>\n",
       "      <td>...</td>\n",
       "      <td>...</td>\n",
       "      <td>...</td>\n",
       "      <td>...</td>\n",
       "      <td>...</td>\n",
       "      <td>...</td>\n",
       "      <td>...</td>\n",
       "      <td>...</td>\n",
       "      <td>...</td>\n",
       "      <td>...</td>\n",
       "      <td>...</td>\n",
       "      <td>...</td>\n",
       "      <td>...</td>\n",
       "      <td>...</td>\n",
       "    </tr>\n",
       "    <tr>\n",
       "      <th>1874976</th>\n",
       "      <td>39.363861</td>\n",
       "      <td>16.153370</td>\n",
       "      <td>2015</td>\n",
       "      <td>2015</td>\n",
       "      <td>999</td>\n",
       "      <td>3</td>\n",
       "      <td>NaN</td>\n",
       "      <td>NaN</td>\n",
       "      <td>NaN</td>\n",
       "      <td>NaN</td>\n",
       "      <td>...</td>\n",
       "      <td>NaN</td>\n",
       "      <td>None</td>\n",
       "      <td>22</td>\n",
       "      <td>22_00</td>\n",
       "      <td>3</td>\n",
       "      <td>3</td>\n",
       "      <td>False</td>\n",
       "      <td>1641490</td>\n",
       "      <td>03_22_00_999_1641490_2015_2015</td>\n",
       "      <td>POINT (16.15337 39.36386)</td>\n",
       "    </tr>\n",
       "    <tr>\n",
       "      <th>1874977</th>\n",
       "      <td>38.617090</td>\n",
       "      <td>15.862316</td>\n",
       "      <td>2015</td>\n",
       "      <td>2015</td>\n",
       "      <td>999</td>\n",
       "      <td>3</td>\n",
       "      <td>NaN</td>\n",
       "      <td>NaN</td>\n",
       "      <td>NaN</td>\n",
       "      <td>NaN</td>\n",
       "      <td>...</td>\n",
       "      <td>NaN</td>\n",
       "      <td>None</td>\n",
       "      <td>22</td>\n",
       "      <td>22_00</td>\n",
       "      <td>3</td>\n",
       "      <td>3</td>\n",
       "      <td>False</td>\n",
       "      <td>1641491</td>\n",
       "      <td>03_22_00_999_1641491_2015_2015</td>\n",
       "      <td>POINT (15.86232 38.61709)</td>\n",
       "    </tr>\n",
       "    <tr>\n",
       "      <th>1874978</th>\n",
       "      <td>39.873745</td>\n",
       "      <td>16.534975</td>\n",
       "      <td>2015</td>\n",
       "      <td>2015</td>\n",
       "      <td>999</td>\n",
       "      <td>3</td>\n",
       "      <td>NaN</td>\n",
       "      <td>NaN</td>\n",
       "      <td>NaN</td>\n",
       "      <td>NaN</td>\n",
       "      <td>...</td>\n",
       "      <td>NaN</td>\n",
       "      <td>None</td>\n",
       "      <td>22</td>\n",
       "      <td>22_00</td>\n",
       "      <td>3</td>\n",
       "      <td>3</td>\n",
       "      <td>False</td>\n",
       "      <td>1641492</td>\n",
       "      <td>03_22_00_999_1641492_2015_2015</td>\n",
       "      <td>POINT (16.53498 39.87375)</td>\n",
       "    </tr>\n",
       "    <tr>\n",
       "      <th>1874979</th>\n",
       "      <td>40.753646</td>\n",
       "      <td>14.513228</td>\n",
       "      <td>2015</td>\n",
       "      <td>2015</td>\n",
       "      <td>999</td>\n",
       "      <td>3</td>\n",
       "      <td>NaN</td>\n",
       "      <td>NaN</td>\n",
       "      <td>NaN</td>\n",
       "      <td>NaN</td>\n",
       "      <td>...</td>\n",
       "      <td>NaN</td>\n",
       "      <td>None</td>\n",
       "      <td>22</td>\n",
       "      <td>22_00</td>\n",
       "      <td>3</td>\n",
       "      <td>3</td>\n",
       "      <td>False</td>\n",
       "      <td>1641493</td>\n",
       "      <td>03_22_00_999_1641493_2015_2015</td>\n",
       "      <td>POINT (14.51323 40.75365)</td>\n",
       "    </tr>\n",
       "    <tr>\n",
       "      <th>1874980</th>\n",
       "      <td>40.756072</td>\n",
       "      <td>14.439385</td>\n",
       "      <td>2015</td>\n",
       "      <td>2015</td>\n",
       "      <td>999</td>\n",
       "      <td>3</td>\n",
       "      <td>NaN</td>\n",
       "      <td>NaN</td>\n",
       "      <td>NaN</td>\n",
       "      <td>NaN</td>\n",
       "      <td>...</td>\n",
       "      <td>NaN</td>\n",
       "      <td>None</td>\n",
       "      <td>22</td>\n",
       "      <td>22_00</td>\n",
       "      <td>3</td>\n",
       "      <td>3</td>\n",
       "      <td>False</td>\n",
       "      <td>1641494</td>\n",
       "      <td>03_22_00_999_1641494_2015_2015</td>\n",
       "      <td>POINT (14.43939 40.75607)</td>\n",
       "    </tr>\n",
       "  </tbody>\n",
       "</table>\n",
       "<p>254361 rows × 21 columns</p>\n",
       "</div>"
      ],
      "text/plain": [
       "               Lat        Lon  Start_Year  End_Year  Dataset_Code  \\\n",
       "880772   14.725049  43.144871        2015      2015           999   \n",
       "880773   31.652813  44.546241        2015      2015           999   \n",
       "880774   26.820775  40.302510        2015      2015           999   \n",
       "880775   32.015824  44.378347        2015      2015           999   \n",
       "880776   26.317088  44.010757        2015      2015           999   \n",
       "...            ...        ...         ...       ...           ...   \n",
       "1874976  39.363861  16.153370        2015      2015           999   \n",
       "1874977  38.617090  15.862316        2015      2015           999   \n",
       "1874978  39.873745  16.534975        2015      2015           999   \n",
       "1874979  40.753646  14.513228        2015      2015           999   \n",
       "1874980  40.756072  14.439385        2015      2015           999   \n",
       "\n",
       "         Continent_Code  LC_Confidence  Segment_Type  Leaf_Type  \\\n",
       "880772                3            NaN           NaN        NaN   \n",
       "880773                3            NaN           NaN        NaN   \n",
       "880774                3            NaN           NaN        NaN   \n",
       "880775                3            NaN           NaN        NaN   \n",
       "880776                3            NaN           NaN        NaN   \n",
       "...                 ...            ...           ...        ...   \n",
       "1874976               3            NaN           NaN        NaN   \n",
       "1874977               3            NaN           NaN        NaN   \n",
       "1874978               3            NaN           NaN        NaN   \n",
       "1874979               3            NaN           NaN        NaN   \n",
       "1874980               3            NaN           NaN        NaN   \n",
       "\n",
       "         Impervious_Percent  ...  Tree_Location  Veg_Modifier  \\\n",
       "880772                  NaN  ...            NaN          None   \n",
       "880773                  NaN  ...            NaN          None   \n",
       "880774                  NaN  ...            NaN          None   \n",
       "880775                  NaN  ...            NaN          None   \n",
       "880776                  NaN  ...            NaN          None   \n",
       "...                     ...  ...            ...           ...   \n",
       "1874976                 NaN  ...            NaN          None   \n",
       "1874977                 NaN  ...            NaN          None   \n",
       "1874978                 NaN  ...            NaN          None   \n",
       "1874979                 NaN  ...            NaN          None   \n",
       "1874980                 NaN  ...            NaN          None   \n",
       "\n",
       "        Level1_Ecoregion  Level2_Ecoregion Glance_Class_ID_level1  \\\n",
       "880772                 2              2_00                      3   \n",
       "880773                 3              3_00                      3   \n",
       "880774                 3              3_00                      3   \n",
       "880775                 3              3_00                      3   \n",
       "880776                 3              3_00                      3   \n",
       "...                  ...               ...                    ...   \n",
       "1874976               22             22_00                      3   \n",
       "1874977               22             22_00                      3   \n",
       "1874978               22             22_00                      3   \n",
       "1874979               22             22_00                      3   \n",
       "1874980               22             22_00                      3   \n",
       "\n",
       "         Glance_Class_ID_level2  Change       ID  \\\n",
       "880772                        3   False   870424   \n",
       "880773                        3   False   870425   \n",
       "880774                        3   False   870426   \n",
       "880775                        3   False   870427   \n",
       "880776                        3   False   870428   \n",
       "...                         ...     ...      ...   \n",
       "1874976                       3   False  1641490   \n",
       "1874977                       3   False  1641491   \n",
       "1874978                       3   False  1641492   \n",
       "1874979                       3   False  1641493   \n",
       "1874980                       3   False  1641494   \n",
       "\n",
       "                              Glance_ID                   geometry  \n",
       "880772     03_2_00_999_870424_2015_2015  POINT (43.14487 14.72505)  \n",
       "880773     03_3_00_999_870425_2015_2015  POINT (44.54624 31.65281)  \n",
       "880774     03_3_00_999_870426_2015_2015  POINT (40.30251 26.82077)  \n",
       "880775     03_3_00_999_870427_2015_2015  POINT (44.37835 32.01582)  \n",
       "880776     03_3_00_999_870428_2015_2015  POINT (44.01076 26.31709)  \n",
       "...                                 ...                        ...  \n",
       "1874976  03_22_00_999_1641490_2015_2015  POINT (16.15337 39.36386)  \n",
       "1874977  03_22_00_999_1641491_2015_2015  POINT (15.86232 38.61709)  \n",
       "1874978  03_22_00_999_1641492_2015_2015  POINT (16.53498 39.87375)  \n",
       "1874979  03_22_00_999_1641493_2015_2015  POINT (14.51323 40.75365)  \n",
       "1874980  03_22_00_999_1641494_2015_2015  POINT (14.43939 40.75607)  \n",
       "\n",
       "[254361 rows x 21 columns]"
      ]
     },
     "execution_count": 144,
     "metadata": {},
     "output_type": "execute_result"
    }
   ],
   "source": [
    "df_african"
   ]
  },
  {
   "cell_type": "code",
   "execution_count": 160,
   "metadata": {},
   "outputs": [
    {
     "data": {
      "text/html": [
       "\n",
       "            <style>\n",
       "                .geemap-dark {\n",
       "                    --jp-widgets-color: white;\n",
       "                    --jp-widgets-label-color: white;\n",
       "                    --jp-ui-font-color1: white;\n",
       "                    --jp-layout-color2: #454545;\n",
       "                    background-color: #383838;\n",
       "                }\n",
       "\n",
       "                .geemap-dark .jupyter-button {\n",
       "                    --jp-layout-color3: #383838;\n",
       "                }\n",
       "\n",
       "                .geemap-colab {\n",
       "                    background-color: var(--colab-primary-surface-color, white);\n",
       "                }\n",
       "\n",
       "                .geemap-colab .jupyter-button {\n",
       "                    --jp-layout-color3: var(--colab-primary-surface-color, white);\n",
       "                }\n",
       "            </style>\n",
       "            "
      ],
      "text/plain": [
       "<IPython.core.display.HTML object>"
      ]
     },
     "metadata": {},
     "output_type": "display_data"
    },
    {
     "data": {
      "text/plain": [
       "<Axes: >"
      ]
     },
     "execution_count": 160,
     "metadata": {},
     "output_type": "execute_result"
    },
    {
     "data": {
      "image/png": "[encoded data removed]",
      "text/plain": [
       "<Figure size 640x480 with 1 Axes>"
      ]
     },
     "metadata": {},
     "output_type": "display_data"
    }
   ],
   "source": [
    "df_african[df_african[\"End_Year\"]>=2019].plot()"
   ]
  },
  {
   "cell_type": "code",
   "execution_count": null,
   "metadata": {},
   "outputs": [],
   "source": []
  },
  {
   "cell_type": "code",
   "execution_count": 3,
   "metadata": {
    "collapsed": false,
    "is_executing": true
   },
   "outputs": [],
   "source": [
    "import xarray as xr\n",
    "import pandas as pd\n",
    "\n",
    "# Create a sample Dataset\n",
    "data = xr.Dataset({\n",
    "    'var1': (['x', 'y'], [[1, 2, 3], [4, 5, 6]]),\n",
    "    'var2': (['x', 'y'], [[7, 8, 9], [10, 11, 12]])\n",
    "})\n",
    "\n",
    "# Convert to DataFrame\n",
    "df = data.to_dataframe().reset_index()\n",
    "\n",
    "# Save to CSV\n",
    "df.to_csv('output_file.csv', index=False)"
   ]
  }
 ],
 "metadata": {
  "kernelspec": {
   "display_name": "env",
   "language": "python",
   "name": "python3"
  },
  "language_info": {
   "codemirror_mode": {
    "name": "ipython",
    "version": 3
   },
   "file_extension": ".py",
   "mimetype": "text/x-python",
   "name": "python",
   "nbconvert_exporter": "python",
   "pygments_lexer": "ipython3",
   "version": "3.9.6"
  }
 },
 "nbformat": 4,
 "nbformat_minor": 2
}
